{
 "cells": [
  {
   "cell_type": "code",
   "execution_count": 44,
   "metadata": {},
   "outputs": [],
   "source": [
    "import pandas as pd\n",
    "import numpy as np\n",
    "import matplotlib.pyplot as plt"
   ]
  },
  {
   "cell_type": "code",
   "execution_count": 45,
   "metadata": {},
   "outputs": [],
   "source": [
    "data = pd.read_csv('email_classification.csv')"
   ]
  },
  {
   "cell_type": "code",
   "execution_count": 46,
   "metadata": {},
   "outputs": [
    {
     "data": {
      "text/html": [
       "<div>\n",
       "<style scoped>\n",
       "    .dataframe tbody tr th:only-of-type {\n",
       "        vertical-align: middle;\n",
       "    }\n",
       "\n",
       "    .dataframe tbody tr th {\n",
       "        vertical-align: top;\n",
       "    }\n",
       "\n",
       "    .dataframe thead th {\n",
       "        text-align: right;\n",
       "    }\n",
       "</style>\n",
       "<table border=\"1\" class=\"dataframe\">\n",
       "  <thead>\n",
       "    <tr style=\"text-align: right;\">\n",
       "      <th></th>\n",
       "      <th>email</th>\n",
       "      <th>label</th>\n",
       "    </tr>\n",
       "  </thead>\n",
       "  <tbody>\n",
       "    <tr>\n",
       "      <th>0</th>\n",
       "      <td>Upgrade to our premium plan for exclusive acce...</td>\n",
       "      <td>ham</td>\n",
       "    </tr>\n",
       "    <tr>\n",
       "      <th>1</th>\n",
       "      <td>Happy holidays from our team! Wishing you joy ...</td>\n",
       "      <td>ham</td>\n",
       "    </tr>\n",
       "    <tr>\n",
       "      <th>2</th>\n",
       "      <td>We're hiring! Check out our career opportuniti...</td>\n",
       "      <td>ham</td>\n",
       "    </tr>\n",
       "    <tr>\n",
       "      <th>3</th>\n",
       "      <td>Your Amazon account has been locked. Click her...</td>\n",
       "      <td>spam</td>\n",
       "    </tr>\n",
       "    <tr>\n",
       "      <th>4</th>\n",
       "      <td>Your opinion matters! Take our survey and help...</td>\n",
       "      <td>ham</td>\n",
       "    </tr>\n",
       "  </tbody>\n",
       "</table>\n",
       "</div>"
      ],
      "text/plain": [
       "                                               email label\n",
       "0  Upgrade to our premium plan for exclusive acce...   ham\n",
       "1  Happy holidays from our team! Wishing you joy ...   ham\n",
       "2  We're hiring! Check out our career opportuniti...   ham\n",
       "3  Your Amazon account has been locked. Click her...  spam\n",
       "4  Your opinion matters! Take our survey and help...   ham"
      ]
     },
     "execution_count": 46,
     "metadata": {},
     "output_type": "execute_result"
    }
   ],
   "source": [
    "data.head()"
   ]
  },
  {
   "cell_type": "code",
   "execution_count": 47,
   "metadata": {},
   "outputs": [
    {
     "name": "stdout",
     "output_type": "stream",
     "text": [
      "<class 'pandas.core.frame.DataFrame'>\n",
      "RangeIndex: 179 entries, 0 to 178\n",
      "Data columns (total 2 columns):\n",
      " #   Column  Non-Null Count  Dtype \n",
      "---  ------  --------------  ----- \n",
      " 0   email   179 non-null    object\n",
      " 1   label   179 non-null    object\n",
      "dtypes: object(2)\n",
      "memory usage: 2.9+ KB\n"
     ]
    }
   ],
   "source": [
    "data.info()"
   ]
  },
  {
   "cell_type": "code",
   "execution_count": 48,
   "metadata": {},
   "outputs": [
    {
     "data": {
      "text/plain": [
       "email    0\n",
       "label    0\n",
       "dtype: int64"
      ]
     },
     "execution_count": 48,
     "metadata": {},
     "output_type": "execute_result"
    }
   ],
   "source": [
    "data.isnull().sum()"
   ]
  },
  {
   "cell_type": "markdown",
   "metadata": {},
   "source": [
    "# PROCESAMIENTO DE LOS DATOS"
   ]
  },
  {
   "cell_type": "code",
   "execution_count": 49,
   "metadata": {},
   "outputs": [],
   "source": [
    "from sklearn.model_selection import train_test_split, cross_val_score\n",
    "from sklearn.metrics import accuracy_score, classification_report\n",
    "from collections import Counter\n",
    "from sklearn.feature_extraction.text import CountVectorizer, TfidfVectorizer\n",
    "from sklearn.naive_bayes import MultinomialNB\n",
    "from sklearn.metrics import classification_report, confusion_matrix, accuracy_score\n",
    "from sklearn.preprocessing import LabelEncoder"
   ]
  },
  {
   "cell_type": "code",
   "execution_count": 50,
   "metadata": {},
   "outputs": [],
   "source": [
    "vectorizer = TfidfVectorizer(stop_words='english')\n",
    "X = vectorizer.fit_transform(data['email'])"
   ]
  },
  {
   "cell_type": "code",
   "execution_count": 51,
   "metadata": {},
   "outputs": [
    {
     "name": "stdout",
     "output_type": "stream",
     "text": [
      "  (0, 132)\t0.35623900003810977\n",
      "  (0, 75)\t0.40761062411353116\n",
      "  (0, 1)\t0.2961380526675784\n",
      "  (0, 120)\t0.27481690227742267\n",
      "  (0, 249)\t0.3775601504282655\n",
      "  (0, 257)\t0.5496338045548453\n",
      "  (0, 390)\t0.31476386648672533\n",
      "  (1, 318)\t0.3706942069746988\n",
      "  (1, 270)\t0.40019821183150917\n",
      "  (1, 188)\t0.40019821183150917\n",
      "  (1, 418)\t0.40019821183150917\n",
      "  (1, 361)\t0.2907527726750828\n",
      "  (1, 157)\t0.40019821183150917\n",
      "  (1, 150)\t0.3706942069746988\n",
      "  (2, 102)\t0.42970294732261044\n",
      "  (2, 186)\t0.31218860971149204\n",
      "  (2, 233)\t0.42970294732261044\n",
      "  (2, 45)\t0.42970294732261044\n",
      "  (2, 56)\t0.33182393475184335\n",
      "  (2, 155)\t0.3755470029775254\n",
      "  (2, 361)\t0.31218860971149204\n",
      "  (3, 167)\t0.4180121806040213\n",
      "  (3, 401)\t0.39860646558427687\n",
      "  (3, 59)\t0.1619485686994428\n",
      "  (3, 201)\t0.4430304985496192\n",
      "  :\t:\n",
      "  (175, 224)\t0.27843202706746323\n",
      "  (176, 339)\t0.3855555654706203\n",
      "  (176, 110)\t0.3855555654706203\n",
      "  (176, 246)\t0.3571310674596079\n",
      "  (176, 114)\t0.3369635651697976\n",
      "  (176, 76)\t0.3571310674596079\n",
      "  (176, 376)\t0.2727284347853649\n",
      "  (176, 326)\t0.3369635651697976\n",
      "  (176, 138)\t0.2397795645681522\n",
      "  (176, 390)\t0.2977325745543038\n",
      "  (177, 282)\t0.4288864741277805\n",
      "  (177, 409)\t0.4288864741277805\n",
      "  (177, 329)\t0.39726747073999463\n",
      "  (177, 374)\t0.39726747073999463\n",
      "  (177, 389)\t0.3311934402443797\n",
      "  (177, 234)\t0.3311934402443797\n",
      "  (177, 369)\t0.311595424039509\n",
      "  (178, 0)\t0.439307280729304\n",
      "  (178, 274)\t0.406920019214686\n",
      "  (178, 370)\t0.3661168952603962\n",
      "  (178, 369)\t0.31916636844487634\n",
      "  (178, 196)\t0.32857450221892043\n",
      "  (178, 228)\t0.29618724070430247\n",
      "  (178, 219)\t0.32857450221892043\n",
      "  (178, 100)\t0.31916636844487634\n"
     ]
    }
   ],
   "source": [
    "print(X)"
   ]
  },
  {
   "cell_type": "code",
   "execution_count": 52,
   "metadata": {},
   "outputs": [
    {
     "data": {
      "text/plain": [
       "0    0\n",
       "1    0\n",
       "2    0\n",
       "3    1\n",
       "4    0\n",
       "5    0\n",
       "6    1\n",
       "7    0\n",
       "8    0\n",
       "9    1\n",
       "Name: label, dtype: int64"
      ]
     },
     "execution_count": 52,
     "metadata": {},
     "output_type": "execute_result"
    }
   ],
   "source": [
    "data['label'] = data['label'].map({'spam':1, 'ham':0})\n",
    "data['label'].head(10)"
   ]
  },
  {
   "cell_type": "markdown",
   "metadata": {},
   "source": [
    "# MODELO"
   ]
  },
  {
   "cell_type": "code",
   "execution_count": 53,
   "metadata": {},
   "outputs": [],
   "source": [
    "import seaborn as sns"
   ]
  },
  {
   "cell_type": "code",
   "execution_count": 54,
   "metadata": {},
   "outputs": [],
   "source": [
    "Y = data['label']"
   ]
  },
  {
   "cell_type": "code",
   "execution_count": 55,
   "metadata": {},
   "outputs": [
    {
     "name": "stdout",
     "output_type": "stream",
     "text": [
      "Precision:  0.9722222222222222\n"
     ]
    }
   ],
   "source": [
    "X_train, X_test, Y_train, Y_test = train_test_split(X, Y, test_size=0.2, random_state=42)\n",
    "model = MultinomialNB()\n",
    "model.fit(X_train, Y_train)\n",
    "predictions = model.predict(X_test)\n",
    "\n",
    "print('Precision: ', accuracy_score(Y_test, predictions))"
   ]
  },
  {
   "cell_type": "markdown",
   "metadata": {},
   "source": [
    "CROSS VALIDATION"
   ]
  },
  {
   "cell_type": "code",
   "execution_count": 56,
   "metadata": {},
   "outputs": [
    {
     "name": "stdout",
     "output_type": "stream",
     "text": [
      "the cross validation score :  [0.97222222 0.97222222 0.91666667 0.91666667 0.85714286]\n",
      "the mean cross validation score :  0.9269841269841269\n"
     ]
    }
   ],
   "source": [
    "cv_score = cross_val_score(model, X, Y, scoring = 'accuracy')\n",
    "\n",
    "print('the cross validation score : ',cv_score)\n",
    "print('the mean cross validation score : ',cv_score.mean())"
   ]
  },
  {
   "cell_type": "code",
   "execution_count": 57,
   "metadata": {},
   "outputs": [
    {
     "data": {
      "image/png": "[encoded data removed]",
      "text/plain": [
       "<Figure size 640x480 with 2 Axes>"
      ]
     },
     "metadata": {},
     "output_type": "display_data"
    }
   ],
   "source": [
    "sns.heatmap(confusion_matrix(Y_test, predictions)\n",
    ", annot=True, fmt='d', cmap='Blues', xticklabels=['0', '1'], yticklabels=['0', '1'])\n",
    "plt.xlabel('Predicted')\n",
    "plt.ylabel('True')\n",
    "plt.title('Confusion Matrix')\n",
    "plt.show()"
   ]
  },
  {
   "cell_type": "code",
   "execution_count": 58,
   "metadata": {},
   "outputs": [
    {
     "data": {
      "image/png": "[encoded data removed]",
      "text/plain": [
       "<Figure size 640x480 with 1 Axes>"
      ]
     },
     "metadata": {},
     "output_type": "display_data"
    }
   ],
   "source": [
    "from sklearn.naive_bayes import GaussianNB\n",
    "from sklearn.metrics import roc_curve, roc_auc_score\n",
    "import matplotlib.pyplot as plt\n",
    "\n",
    "# Create and fit the model\n",
    "model = model = MultinomialNB()\n",
    "model.fit(X_train, Y_train)\n",
    "\n",
    "# Obtiene las probabilidades de la clase positiva (1)\n",
    "y_prob = model.predict_proba(X_test)[:, 1]\n",
    "\n",
    "# Calcula la curva ROC\n",
    "fpr, tpr, thresholds = roc_curve(Y_test, y_prob)\n",
    "\n",
    "# Calcula el AUC\n",
    "auc_score = roc_auc_score(Y_test, y_prob)\n",
    "\n",
    "# Grafica la curva ROC\n",
    "plt.plot(fpr, tpr, label=f'AUC = {auc_score:.2f}')\n",
    "plt.plot([0, 1], [0, 1], linestyle='--')  # Línea diagonal\n",
    "plt.xlabel('False Positive Rate')\n",
    "plt.ylabel('True Positive Rate')\n",
    "plt.title('Curva ROC - Naive Bayes')\n",
    "plt.legend()\n",
    "plt.show()"
   ]
  }
 ],
 "metadata": {
  "kernelspec": {
   "display_name": "Python 3",
   "language": "python",
   "name": "python3"
  },
  "language_info": {
   "codemirror_mode": {
    "name": "ipython",
    "version": 3
   },
   "file_extension": ".py",
   "mimetype": "text/x-python",
   "name": "python",
   "nbconvert_exporter": "python",
   "pygments_lexer": "ipython3",
   "version": "3.12.6"
  }
 },
 "nbformat": 4,
 "nbformat_minor": 2
}
